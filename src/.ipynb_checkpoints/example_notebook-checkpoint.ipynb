{
 "cells": [
  {
   "cell_type": "markdown",
   "id": "c90d729c-dbfb-4088-bcdf-1f6338d477ab",
   "metadata": {
    "jp-MarkdownHeadingCollapsed": true
   },
   "source": [
    "## Todo list"
   ]
  },
  {
   "cell_type": "markdown",
   "id": "83c29539-3e71-453a-b722-cfa5d7861ed0",
   "metadata": {},
   "source": [
    "Use this document as an example document for RamanLib.\n",
    "- [ ] Visualising the effect of preprocessing steps on data"
   ]
  },
  {
   "cell_type": "markdown",
   "id": "2113f41e-5afd-4b00-b7bd-36a71e6128c3",
   "metadata": {},
   "source": [
    "## Next Steps:"
   ]
  },
  {
   "cell_type": "markdown",
   "id": "ee680eba-44ab-4488-8e24-4768a5beed52",
   "metadata": {},
   "source": [
    "Preprocessing:\n",
    "- Implement automatic substrate removal:\n",
    "  - https://pubs.rsc.org/en/content/articlelanding/2009/an/b821856k\n",
    "  - https://doi.org/10.1016%2Fj.forsciint.2013.04.033\n",
    "- And substrate removal for heterogenous substrate (multivariate curve resolution) (e.g. in forensic analysis)\n",
    "  - https://www.nature.com/articles/s41596-021-00620-3#ref-CR55\n",
    "- Implement automatic baseline optimisation from Guo and Bocklitz:\n",
    "  - https://doi.org/10.1039%2FC6AN00041J\n"
   ]
  },
  {
   "cell_type": "markdown",
   "id": "37e44c4d-be87-42fa-a84f-a5834a486f35",
   "metadata": {},
   "source": [
    "## Useful Sources"
   ]
  },
  {
   "cell_type": "markdown",
   "id": "9c682ac9-882a-4578-97a6-712ee7ff0d73",
   "metadata": {},
   "source": [
    "RamanSPy docs: https://ramanspy.readthedocs.io/en/latest/\n",
    "\n",
    "Guo et al Raman Data Analysis SOP paper and data availability: https://www.nature.com/articles/s41596-021-00620-3\n",
    "\n",
    "Worked example using CLS regression: https://medium.com/data-science/data-science-for-raman-spectroscopy-a-practical-example-e81c56cf25f\n",
    "\n",
    "Raman Spectrum of E2: https://pmc.ncbi.nlm.nih.gov/articles/PMC6201238/\n",
    "\n",
    "Carly Shea's slides on E2 peak identification: https://docs.google.com/presentation/d/1n_KoqyFBQshDlwcOG39hBMPghaZAIIzefnRZgJ6n77w/edit?usp=sharing\n",
    "\n",
    "Baseline subtraction algorithms (pybaselines): https://pybaselines.readthedocs.io/en/latest/algorithms/index.html\n",
    "\n",
    "Paul Eiler 'A Perfect Smoother' paper: https://doi.org/10.1021/ac034173t\n",
    "\n",
    "Whitaker-Hayes despiking: https://www.sciencedirect.com/science/article/pii/S0169743918301758"
   ]
  },
  {
   "cell_type": "markdown",
   "id": "46ceb76b-5796-452e-adbd-517a3b4564b1",
   "metadata": {},
   "source": [
    "## Import packages"
   ]
  },
  {
   "cell_type": "code",
   "execution_count": 1,
   "id": "33872e56-4556-4602-8f94-82909d25440a",
   "metadata": {},
   "outputs": [],
   "source": [
    "import os\n",
    "os.chdir('/home/linux_thoma/git/RamanLib/src')"
   ]
  },
  {
   "cell_type": "code",
   "execution_count": 4,
   "id": "ecd56f7c-ab8b-4aeb-b1c2-b09d3b3bcfac",
   "metadata": {},
   "outputs": [],
   "source": [
    "import ramanlib as rl"
   ]
  },
  {
   "cell_type": "code",
   "execution_count": 6,
   "id": "2d2dd3c5-b50a-4090-aee0-66ed646f9a42",
   "metadata": {},
   "outputs": [],
   "source": [
    "# Import packages\n",
    "# import ramanspy as rp\n",
    "# import pandas as pd\n",
    "# import matplotlib.pyplot as plt\n",
    "# import random\n",
    "# import numpy as np\n",
    "# import seaborn as sns\n",
    "# import os\n",
    "# import re\n",
    "# from datetime import datetime\n",
    "# from datetime import date\n",
    "# import shutil\n",
    "# import sklearn.linear_model as linear_model\n",
    "# from scipy.optimize import curve_fit\n",
    "# from collections import Counter\n",
    "# import warnings"
   ]
  },
  {
   "cell_type": "markdown",
   "id": "a2dc02d0-9f31-4c8a-864d-4ca2888c471e",
   "metadata": {},
   "source": [
    "# RamanLib: adding custom functionality to RamanSPy for personal use and added convenience\n",
    "\n",
    "In my intitial work with RamanSPy, I have found many frequently-used functionalities which I would like to implement as custom classes / methods in a new library - RamanLib.\n",
    "\n",
    "Some examples of core functionality include:\n",
    "- adding a metadata parameter to spectral containers, allowing each spectrum within a container to be grouped by certain attributes of their metadata, like replicate / sample, collection parameters, labelling etc.\n",
    "- adding plot functionality for plots I have needed such as correlation coefficient plots, comparisons to mean spectra etc."
   ]
  },
  {
   "cell_type": "markdown",
   "id": "b686b613-edd1-458e-9879-fdbeca759f85",
   "metadata": {
    "jp-MarkdownHeadingCollapsed": true
   },
   "source": [
    "## GroupedSpectralContainer class\n",
    "Next step: Make a version that is suited to storing and manipulating spectral images."
   ]
  },
  {
   "cell_type": "code",
   "execution_count": null,
   "id": "718d2de3-b6cc-4645-b4e9-d8a6e0d69928",
   "metadata": {},
   "outputs": [],
   "source": [
    "class GroupedSpectralContainer:\n",
    "    # GroupedSpectralContainer is a wrapper for a pandas DataFrame object, which should always have a \"spectrum\" column of\n",
    "    # rp.Spectrum objects, and other columns representing corresponding metadata.\n",
    "\n",
    "    # Basic data manipulation methods. For more advanced functionality, the user is expected to\n",
    "    # use GroupedSpectralContainer.df to apply changes to the data.\n",
    "    def __init__(self, spectral_list, metadata):   # metadata is a list of dictionaries\n",
    "        # Raise errors if data isn't spectrum objects or not the same length as the metadata\n",
    "        if not all(isinstance(s, rp.Spectrum) for s in spectral_list):\n",
    "            raise TypeError(\"All items in spectral_list must be RamanSPy Spectrum objects.\")\n",
    "        if len(spectral_list) != len(metadata):\n",
    "            raise ValueError(\"spectral_list and metadata must be the same length.\")\n",
    "        \n",
    "        rows = [{\"spectrum\": s, **meta} for s, meta in zip(spectral_list, metadata)]\n",
    "        self.df = pd.DataFrame(rows)\n",
    "    \n",
    "    @classmethod\n",
    "    def from_dataframe(cls, df):\n",
    "        # Create a GroupedSpectralContainer using a dataframe, going through the __init__ constructor\n",
    "        # for increased robustness\n",
    "\n",
    "        # Check for a spectrum column and the type of the spectrum columns\n",
    "        if \"spectrum\" not in df.columns:\n",
    "            raise ValueError(\"DataFrame must contain a 'spectrum' column.\")\n",
    "        if not all(isinstance(s, rp.Spectrum) for s in df[\"spectrum\"]):\n",
    "            raise TypeError(\"All entries in 'spectrum' column must be Spectrum objects.\")\n",
    "        \n",
    "        spectra = df[\"spectrum\"].tolist()\n",
    "        metadata = df.drop(columns=[\"spectrum\"]).to_dict(orient=\"records\")\n",
    "        return cls(spectra, metadata)\n",
    "\n",
    "    def copy(self):\n",
    "        return GroupedSpectralContainer.from_dataframe(self.df.copy())\n",
    "\n",
    "    def to_spectral_container(self):\n",
    "        # Return a SpectralContainer with the data of the GroupedSpectralContainer.\n",
    "        axes = [s.spectral_axis for s in self.df['spectrum']]\n",
    "        # Check that all spectra within have the same spectral axis.\n",
    "        if not all((axes[0] == ax).all() for ax in axes[1:]):\n",
    "            raise ValueError(\"All spectra must have the same spectral axis to convert to a SpectralContainer.\")\n",
    "        return rp.SpectralContainer.from_stack(self.df[\"spectrum\"].tolist())\n",
    "\n",
    "    def mean(self, by=None, include_stats=False, ddof=1):\n",
    "        \"\"\"\n",
    "        Compute mean spectra per group and return a new GroupedSpectralContainer\n",
    "        with one row per group.\n",
    "\n",
    "        Parameters\n",
    "        ----------\n",
    "        by : str | list[str] | callable | None\n",
    "            Grouping key(s) for pandas .groupby. If None, the whole container is one group.\n",
    "        include_stats : bool\n",
    "            If True, add columns: 'n' (group size), 'std_vector', 'var_vector'.\n",
    "            (Vectors are numpy arrays aligned with the spectrum's spectral_axis.)\n",
    "        ddof : int\n",
    "            Delta degrees of freedom for variance/std (default=1 ⇒ sample stats).\n",
    "\n",
    "        Returns\n",
    "        -------\n",
    "        GroupedSpectralContainer\n",
    "            A new GSC with mean Spectrum per group. Group keys are preserved\n",
    "            back into metadata columns.\n",
    "        \"\"\"\n",
    "        # Build iterable of (group_key, group_df)\n",
    "        grouped = [(\"all\", self.df)] if by is None else list(self.df.groupby(by, dropna=False))\n",
    "\n",
    "        rows = []\n",
    "        for key, gdf in grouped:\n",
    "            if gdf.empty:\n",
    "                continue\n",
    "\n",
    "            spectra = gdf[\"spectrum\"].tolist()\n",
    "            container = rp.SpectralContainer.from_stack(spectra)\n",
    "            mean_spec = container.mean\n",
    "\n",
    "            # Rehydrate group key(s) into metadata columns\n",
    "            meta = {}\n",
    "            if by is None:\n",
    "                meta[\"group\"] = \"all\"\n",
    "            else:\n",
    "                by_cols = by if isinstance(by, (list, tuple)) else [by]\n",
    "                # pandas returns tuple keys for multi-column groups\n",
    "                key_vals = key if isinstance(key, tuple) else (key,)\n",
    "                meta.update(dict(zip(by_cols, key_vals)))\n",
    "\n",
    "            # Always include the mean Spectrum\n",
    "            meta[\"spectrum\"] = mean_spec\n",
    "\n",
    "            if include_stats:\n",
    "                var = np.var(container.spectral_data, axis=0, ddof=ddof)\n",
    "                meta[\"n\"] = container.shape[0]\n",
    "                meta[\"var_vector\"] = var\n",
    "                meta[\"std_vector\"] = np.sqrt(var)\n",
    "\n",
    "            rows.append(meta)\n",
    "\n",
    "        mean_df = pd.DataFrame(rows)\n",
    "        return GroupedSpectralContainer.from_dataframe(mean_df)\n",
    "\n",
    "    def plot_mean(self, by=None, interval=None, plot_type=\"separate\", ci_z=1.96, **kwargs):\n",
    "        return mean_per_group(self, by=by, interval=interval, plot_type=plot_type, ci_z=ci_z, **kwargs)\n",
    "\n",
    "    def plot_random(self, by=None, n_samples=3, plot_type=\"single\", seed=None, **kwargs):\n",
    "        return random_per_group(self, by=by, n_samples=n_samples, plot_type=plot_type, seed=seed, **kwargs)\n",
    "\n",
    "    def apply_pipeline(self, pipeline):\n",
    "        return apply_pipeline_to_container(self, pipeline)\n",
    "    \n",
    "    def __len__(self):\n",
    "        return len(self.df)\n",
    "\n",
    "    def __getitem__(self, key):\n",
    "        result = self.df[key]\n",
    "        if isinstance(result, pd.DataFrame):\n",
    "            return GroupedSpectralContainer.from_dataframe(result)\n",
    "        return result\n",
    "\n",
    "    def __repr__(self):\n",
    "        return f\"GroupedSpectralContainer({len(self.df)} spectra)\\n\\n{self.df.head()}\"\n"
   ]
  },
  {
   "cell_type": "markdown",
   "id": "585bc6e5-ad41-4c29-8338-790bf54df861",
   "metadata": {
    "jp-MarkdownHeadingCollapsed": true
   },
   "source": [
    "## Custom Library Functions"
   ]
  },
  {
   "cell_type": "code",
   "execution_count": null,
   "id": "d9a5b629-6606-4b1e-a8dc-9e663bfbd19a",
   "metadata": {},
   "outputs": [],
   "source": [
    "                            ###### Domain-specific functions: ######\n",
    "# While they provide less flexibility, they are intended to allow for common\n",
    "# functions to be applied to the data quickly with little customisation. If more functionality is required,\n",
    "# the user is encouraged to create a copy of the GroupedSpectralContainer to do any required filtering\n",
    "# and use the to_spectral_container method to use other RamanSPy functions on the spectral data."
   ]
  },
  {
   "cell_type": "code",
   "execution_count": null,
   "id": "63aabb24-43c4-4f74-adfa-38411e5ed24c",
   "metadata": {},
   "outputs": [],
   "source": [
    "# Note: for grouped functions, inputting by=None (the default value for these parameters) causes\n",
    "# no grouping to take place, so the function is applied to the entire set of data without grouping."
   ]
  },
  {
   "cell_type": "code",
   "execution_count": null,
   "id": "41894127-02cd-4022-8aa6-044013f4920a",
   "metadata": {},
   "outputs": [],
   "source": [
    "# Note: I have decided not to add plt.show() at the end of plot functions, so that the user has the ability\n",
    "# to modify the plot within their code before displaying / closing the plot."
   ]
  },
  {
   "cell_type": "markdown",
   "id": "b39504de-a699-4f66-83c3-38e1e8c35fbf",
   "metadata": {
    "jp-MarkdownHeadingCollapsed": true
   },
   "source": [
    "### Utilities - To be used only by internal functions, not by users"
   ]
  },
  {
   "cell_type": "code",
   "execution_count": null,
   "id": "ea615383-4f13-4805-b4c8-cc548399d35c",
   "metadata": {},
   "outputs": [],
   "source": [
    "from typing import List\n",
    "import matplotlib.axes as maxes\n",
    "\n",
    "def _normalize_axes_obj(axes_obj) -> List[maxes.Axes]:\n",
    "    \"\"\"\n",
    "    RamanSPy claims to return Axes or list[Axes], but some plot_types (e.g. 'stacked')\n",
    "    may return a Figure. Normalize to a list[Axes].\n",
    "    \"\"\"\n",
    "    if isinstance(axes_obj, list):\n",
    "        return axes_obj\n",
    "    # Single Axes\n",
    "    if hasattr(axes_obj, \"plot\") and hasattr(axes_obj, \"fill_between\"):\n",
    "        return [axes_obj]\n",
    "    # Figure\n",
    "    if hasattr(axes_obj, \"get_axes\"):\n",
    "        return axes_obj.get_axes()\n",
    "    # Unknown\n",
    "    raise TypeError(f\"Unexpected return type from rp.plot.spectra: {type(axes_obj)}\")"
   ]
  },
  {
   "cell_type": "markdown",
   "id": "7bb813d9-9df3-4c39-9bdd-836ff6cc96f8",
   "metadata": {
    "jp-MarkdownHeadingCollapsed": true
   },
   "source": [
    "### Plot Spectra\n",
    "Functions for plotting spectra"
   ]
  },
  {
   "cell_type": "code",
   "execution_count": null,
   "id": "1cddde84-968b-4139-9f72-2d93f41fd2c2",
   "metadata": {},
   "outputs": [],
   "source": [
    "def mean_per_group(gsc, by=None, interval=None, plot_type=\"separate\", ci_z=1.96, **kwargs):\n",
    "    \"\"\"\n",
    "    Plot mean spectrum per group using precomputed statistics from GSC.mean(include_stats=True).\n",
    "    interval: None | 'ci' | 'sd'\n",
    "        'ci' plots ± z * (std / sqrt(n)); 'sd' plots ± std.\n",
    "    \"\"\"\n",
    "    # 1) Compute group means + stats once\n",
    "    means_gsc = gsc.mean(by=by, include_stats=True, ddof=1)\n",
    "    df = means_gsc.df\n",
    "\n",
    "    # 2) Prepare means and labels\n",
    "    group_means = df[\"spectrum\"].tolist()\n",
    "    \n",
    "    # Use user labels if provided; otherwise build them. Avoid double-passing via kwargs.\n",
    "    group_labels = kwargs.pop(\"label\", None)\n",
    "    if group_labels is None:\n",
    "        if by is None:\n",
    "            group_labels = [\"all\"]\n",
    "        else:\n",
    "            grouped = df.groupby(by, dropna=False)\n",
    "            group_labels = [\n",
    "                \", \".join(map(str, key)) if isinstance(key, tuple) else str(key)\n",
    "                for key, _ in grouped\n",
    "            ]\n",
    "    spectral_axis = group_means[0].spectral_axis if group_means else None\n",
    "\n",
    "    # 3) Precompute bands if requested\n",
    "    bands = [None] * len(df)\n",
    "    if interval in (\"ci\", \"sd\"):\n",
    "        if \"std_vector\" not in df or (interval == \"ci\" and \"n\" not in df):\n",
    "            warnings.warn(\"Required statistics not present; skipping interval bands.\")\n",
    "        else:\n",
    "            for i, row in df.iterrows():\n",
    "                std = row[\"std_vector\"]\n",
    "                if std is None or (isinstance(std, np.ndarray) and std.size == 0):\n",
    "                    bands[i] = None\n",
    "                    continue\n",
    "                if interval == \"sd\":\n",
    "                    band = std\n",
    "                else:  # 'ci'\n",
    "                    n = int(row[\"n\"])\n",
    "                    band = (ci_z * std / np.sqrt(n)) if n > 0 else None\n",
    "                bands[i] = band\n",
    "\n",
    "    # 4) Plot means\n",
    "    axes_obj = rp.plot.spectra(group_means, label=group_labels, plot_type=plot_type, **kwargs)\n",
    "    axes = _normalize_axes_obj(axes_obj)\n",
    "\n",
    "    # 5) Handle stacked-with-offset limitation\n",
    "    if (plot_type or \"\").lower() == \"single stacked\" and interval is not None:\n",
    "        warnings.warn(\"Interval bands disabled for 'single stacked' due to vertical offsets.\")\n",
    "        return axes_obj\n",
    "\n",
    "    # 6) Overlay bands on the correct axes\n",
    "    if spectral_axis is not None and any(b is not None for b in bands):\n",
    "        for ax, mean_spec, band in zip(axes, group_means, bands):\n",
    "            if band is None:\n",
    "                continue\n",
    "            ax.fill_between(\n",
    "                spectral_axis,\n",
    "                mean_spec.spectral_data - band,\n",
    "                mean_spec.spectral_data + band,\n",
    "                alpha=0.2\n",
    "            )\n",
    "\n",
    "    return axes_obj"
   ]
  },
  {
   "cell_type": "code",
   "execution_count": null,
   "id": "25d2e09c-cfce-4f58-aa3a-5ecd2a979044",
   "metadata": {},
   "outputs": [],
   "source": [
    "def random_per_group(gsc, by=None, n_samples=3, plot_type=\"single\", seed=None, **kwargs):\n",
    "    \"\"\"\n",
    "    Plot n random spectra from each group in the container.\n",
    "\n",
    "    Parameters:\n",
    "        gsc (GroupedSpectralContainer)\n",
    "        by (str or list or callable): Metadata column(s) or grouping method.\n",
    "        n_samples (int): Number of spectra to sample per group.\n",
    "        plot_type (str): Passed to rp.plot.spectra.\n",
    "        seed (int or None): Random seed for reproducible sampling. Default None.\n",
    "        **kwargs: Forwarded to rp.plot.spectra.\n",
    "\n",
    "    Returns:\n",
    "        Axes | list[Axes] | Figure: Whatever rp.plot.spectra returns.\n",
    "    \"\"\"\n",
    "    rng = random.Random(seed)  # local RNG\n",
    "\n",
    "    def _sample_k(spectra, k):\n",
    "        if len(spectra) == 0:\n",
    "            return []\n",
    "        if k <= len(spectra):\n",
    "            return rng.sample(spectra, k)\n",
    "        return spectra[:] + rng.choices(spectra, k=k - len(spectra))\n",
    "\n",
    "    if by is None:\n",
    "        spectra = gsc.df[\"spectrum\"].tolist()\n",
    "        spectra_groups = [_sample_k(spectra, n_samples)]\n",
    "        group_labels = [\"all\"]\n",
    "    else:\n",
    "        grouped = gsc.df.groupby(by)\n",
    "        spectra_groups, group_labels = [], []\n",
    "        for key, group_df in grouped:\n",
    "            sample = _sample_k(group_df[\"spectrum\"].tolist(), n_samples)\n",
    "            spectra_groups.append(sample)\n",
    "            group_labels.append(\", \".join(map(str, key)) if isinstance(key, tuple) else str(key))\n",
    "\n",
    "    return rp.plot.spectra(spectra_groups, label=group_labels, plot_type=plot_type, **kwargs)"
   ]
  },
  {
   "cell_type": "markdown",
   "id": "1553b8c3-476a-423d-a8a9-4aa80c48ea46",
   "metadata": {
    "jp-MarkdownHeadingCollapsed": true
   },
   "source": [
    "### Quality Control\n",
    "Functions for automatically identifying potential outliers in data using statistics.\n",
    "\n",
    "Next step: Add different algorithms for detecting outliers like citation: [Penny, K. I. & Jolliffe, I. T. A comparison of multivariate outlier detection methods for clinical laboratory safety data. J. R. Stat. Soc. D. 50, 295–307 (2001).]\n",
    "- Hostelling's T-squared\n",
    "- Mahalanobis distance\n",
    "- Q-residuals\n",
    "\n",
    "Next step: Search for and plot all spectra with a metric outside a certain threshold. Threshold can be mu + t * sigma where mu and sigma are the mean and standard deviation of the metric across all spectra and t is tuned to get a good threshold value."
   ]
  },
  {
   "cell_type": "code",
   "execution_count": null,
   "id": "faa2d50a-2a3e-4166-b7b4-d2580f17d88e",
   "metadata": {},
   "outputs": [],
   "source": [
    "def outliers_per_group(gsc, metric, by=None, n_spectra=3, highest=True):\n",
    "    \"\"\"\n",
    "    Compute, per group, the indices of the n highest/lowest spectra by a metric\n",
    "    against the group's mean spectrum. Also returns the group mean (Spectrum).\n",
    "\n",
    "    Parameters\n",
    "    ----------\n",
    "    gsc : GroupedSpectralContainer\n",
    "    metric : callable\n",
    "        Like rp.metrics.* with signature metric(spec_a: rp.Spectrum, spec_b: rp.Spectrum) -> float.\n",
    "    by : str | list[str] | callable | None\n",
    "        Grouping key for pandas .groupby. If None, the whole dataset is one group.\n",
    "    n_spectra : int\n",
    "        Number of spectra to select per group (clipped to group size).\n",
    "    highest : bool\n",
    "        If True, select largest metric values; else smallest.\n",
    "\n",
    "    Returns\n",
    "    -------\n",
    "    results : dict[str, tuple[list[int], rp.Spectrum]]\n",
    "        { group_label: ([row_indices_into_gsc_df], mean_spectrum) }\n",
    "    \"\"\"\n",
    "    grouped = [(\"all\", gsc.df)] if by is None else list(gsc.df.groupby(by))\n",
    "\n",
    "    results = {}\n",
    "    for key, group_df in grouped:\n",
    "        if group_df.empty:\n",
    "            continue\n",
    "\n",
    "        spectra = group_df[\"spectrum\"].tolist()\n",
    "        cont = rp.SpectralContainer.from_stack(spectra)\n",
    "        mean_spec = cont.mean\n",
    "\n",
    "        scores = np.array([metric(spec, mean_spec) for spec in spectra])\n",
    "        order = np.argsort(scores)\n",
    "        if highest:\n",
    "            order = order[::-1]\n",
    "\n",
    "        k = min(n_spectra, len(group_df))\n",
    "        pick_local = order[:k]\n",
    "        pick_global = group_df.index.values[pick_local].tolist()\n",
    "\n",
    "        label = \", \".join(map(str, key)) if isinstance(key, tuple) else str(key)\n",
    "        results[label] = (pick_global, mean_spec)\n",
    "\n",
    "    return results"
   ]
  },
  {
   "cell_type": "code",
   "execution_count": null,
   "id": "78447f05-4855-4f1e-b84e-4965a020b1bd",
   "metadata": {},
   "outputs": [],
   "source": [
    "def outliers_per_group(gsc, results, **kwargs):\n",
    "    \"\"\"\n",
    "    Plot outlier spectra per group and overlay the group mean.\n",
    "    Layout is fixed to 'separate' for robustness. Additional keyword args\n",
    "    are forwarded to rp.plot.spectra (e.g., color, linewidth, title, ax, etc.).\n",
    "\n",
    "    Parameters\n",
    "    ----------\n",
    "    gsc : GroupedSpectralContainer\n",
    "    results : dict[str, tuple[list[int], rp.Spectrum]]\n",
    "        Output of calc_outlier_indices_by_group: {group_label: (row_indices, mean_spectrum)}\n",
    "    **kwargs :\n",
    "        Forwarded to rp.plot.spectra, EXCEPT 'plot_type' which is ignored.\n",
    "\n",
    "    Returns\n",
    "    -------\n",
    "    axes_obj :\n",
    "        Whatever rp.plot.spectra returns (Axes | list[Axes] | Figure).\n",
    "    \"\"\"\n",
    "    if not results:\n",
    "        return None\n",
    "\n",
    "    # Don’t allow plot_type injection here to avoid edge cases.\n",
    "    if \"plot_type\" in kwargs:\n",
    "        warnings.warn(\"plot_type is fixed to 'separate' for this plot; ignoring provided plot_type.\")\n",
    "        kwargs = {k: v for k, v in kwargs.items() if k != \"plot_type\"}\n",
    "\n",
    "    group_labels = list(results.keys())\n",
    "\n",
    "    spectra_groups = []\n",
    "    means_for_overlay = []\n",
    "    for label in group_labels:\n",
    "        idxs, mean_spec = results[label]\n",
    "        spectra_groups.append(gsc.df.loc[idxs, \"spectrum\"].tolist())\n",
    "        means_for_overlay.append(mean_spec)\n",
    "\n",
    "    axes_obj = rp.plot.spectra(\n",
    "        spectra_groups,\n",
    "        label=group_labels,\n",
    "        plot_type=\"separate\",\n",
    "        **kwargs\n",
    "    )\n",
    "\n",
    "    # Normalize to a list of Axes to overlay the mean\n",
    "    if isinstance(axes_obj, list):\n",
    "        axes_list = axes_obj\n",
    "    elif hasattr(axes_obj, \"fill_between\"):   # single Axes\n",
    "        axes_list = [axes_obj]\n",
    "    elif hasattr(axes_obj, \"get_axes\"):       # Figure\n",
    "        axes_list = axes_obj.get_axes()\n",
    "    else:\n",
    "        axes_list = []\n",
    "\n",
    "    # Overlay the mean line (no labels/legend/tight_layout/show here)\n",
    "    for ax, mean_spec in zip(axes_list, means_for_overlay):\n",
    "        ax.plot(mean_spec.spectral_axis, mean_spec.spectral_data, color=\"red\", linewidth=1.5)\n",
    "\n",
    "    return axes_obj"
   ]
  },
  {
   "cell_type": "markdown",
   "id": "cd9e25c3-7979-45f9-a7a5-e82b4c79020c",
   "metadata": {
    "jp-MarkdownHeadingCollapsed": true
   },
   "source": [
    "### Calibration\n",
    "Functions for calibrating based on a calibration spectrum.\n",
    "\n",
    "Next step: shift wavenumbers of spectra based on the calibration peak of the closest day.\n",
    "\n",
    "Next step: apply a polynomial calibration based on calibration spectra with multiple peaks (like polystyrene or gas emission spectra)"
   ]
  },
  {
   "cell_type": "code",
   "execution_count": null,
   "id": "d22f253c-8c02-4e42-b6f0-841ec3ea5cc4",
   "metadata": {},
   "outputs": [],
   "source": [
    "from scipy.optimize import curve_fit\n",
    "def fit_peak(calib: rp.Spectrum, plot: bool = False):\n",
    "    \"\"\"\n",
    "    Fit a Gaussian to a single peak in a calibration spectrum (e.g., internal Si).\n",
    "\n",
    "    Parameters\n",
    "    ----------\n",
    "    calib : rp.Spectrum\n",
    "        Has `.spectral_axis` and `.spectral_data` (1D arrays).\n",
    "    plot : bool\n",
    "        If True, plot data + Gaussian fit using RamanSPy. (No plt.show() here.)\n",
    "\n",
    "    Returns\n",
    "    -------\n",
    "    peak_center : float\n",
    "        Estimated center of the peak (cm⁻¹).\n",
    "    peak_height : float\n",
    "        Estimated peak intensity (amplitude).\n",
    "    sigma : float\n",
    "        Estimated Gaussian σ (related to FWHM via FWHM = 2*sqrt(2*ln2)*σ).\n",
    "    \"\"\"\n",
    "\n",
    "    # Gaussian model\n",
    "    def gaussian(x, a, x0, sigma):\n",
    "        return a * np.exp(-(x - x0) ** 2 / (2 * sigma ** 2))\n",
    "\n",
    "    x = np.asarray(calib.spectral_axis)\n",
    "    y = np.asarray(calib.spectral_data)\n",
    "\n",
    "    # Initial guesses\n",
    "    a0 = float(np.max(y))\n",
    "    x0 = float(x[np.argmax(y)])\n",
    "    sigma0 = 5.0\n",
    "    p0 = [a0, x0, sigma0]\n",
    "\n",
    "    # Fit\n",
    "    popt, _ = curve_fit(gaussian, x, y, p0=p0)\n",
    "    a_fit, x0_fit, sigma_fit = popt\n",
    "\n",
    "    if plot:\n",
    "        # Build a Spectrum for the fitted curve so we can use rp.plot.spectra\n",
    "        y_fit = gaussian(x, *popt)\n",
    "        fit_spec = rp.Spectrum(y_fit, x)\n",
    "\n",
    "        # Plot data + fit in a single axes using RamanSPy\n",
    "        axes_obj = rp.plot.spectra(\n",
    "            [calib, fit_spec],\n",
    "            label=[\"Data\", \"Gaussian Fit\"],\n",
    "            plot_type=\"single\"\n",
    "        )\n",
    "\n",
    "        # Ensure we have an Axes to draw the vertical line on\n",
    "        ax = _normalize_axes_obj(axes_obj)[0]\n",
    "        if ax is not None:\n",
    "            ax.axvline(x0_fit, linestyle=\":\", color=\"r\")  # Peak center marker\n",
    "\n",
    "        # (No plt.show(); let caller decide)\n",
    "\n",
    "    return x0_fit, a_fit, sigma_fit"
   ]
  },
  {
   "cell_type": "code",
   "execution_count": null,
   "id": "3b6e601a-9620-412e-9b17-55f87498bb9f",
   "metadata": {},
   "outputs": [],
   "source": [
    "def get_wn_shift(calib: rp.Spectrum, expected_x0_value, plot=False):\n",
    "    '''Fit a gaussian to a single calibration peak of spectrum calib. Return the distance to expected_x0_value.\n",
    "    \n",
    "    expected_x0_value is a single number representing the value to correct to.'''\n",
    "    x0, _, _ = fit_peak(calib, plot=plot)\n",
    "    return x0 - expected_x0_value"
   ]
  },
  {
   "cell_type": "code",
   "execution_count": null,
   "id": "489b390e-2064-497d-851c-cb94bf460505",
   "metadata": {},
   "outputs": [],
   "source": [
    "def get_gsc_wn_shifts(\n",
    "    calib_gsc: GroupedSpectralContainer,\n",
    "    expected_x0_range,\n",
    "    expected_x0_value: float,\n",
    "    in_place: bool = False,\n",
    "    plot: bool = False,\n",
    "):\n",
    "    \"\"\"\n",
    "    Fit calibration peaks for all spectra in a GSC and annotate the GSC with:\n",
    "      - 'x0_fit' : fitted peak center (cm^-1)\n",
    "      - 'shift'  : x0_fit - expected_x0_value\n",
    "\n",
    "    Parameters\n",
    "    ----------\n",
    "    calib_gsc : GroupedSpectralContainer\n",
    "        Must have a 'spectrum' column of rp.Spectrum objects.\n",
    "    expected_x0_range : iterable of two floats\n",
    "        [low, high] expected cm^-1 window for valid peak centers.\n",
    "    expected_x0_value : float\n",
    "        Target cm^-1 value to calibrate to.\n",
    "    in_place : bool\n",
    "        If True, modify calib_gsc.df in place. If False, return a new GSC.\n",
    "    plot : bool\n",
    "        If True, plot each fit (slow; for debugging small sets).\n",
    "\n",
    "    Returns\n",
    "    -------\n",
    "    fail_gsc : pd.DataFrame                     (if in_place=True)\n",
    "        Rows from the (now-annotated) calib_gsc.df that fail the range check.\n",
    "    fail_gsc, new_gsc : (GroupedSpectralContainer, GroupedSpectralContainer)   (if in_place=False)\n",
    "        A new annotated GSC plus the failing rows DataFrame.\n",
    "    \"\"\"\n",
    "    if expected_x0_range is None or len(expected_x0_range) != 2:\n",
    "        raise ValueError(\"expected_x0_range must be a two-element iterable [low, high].\")\n",
    "    low, high = sorted(expected_x0_range)\n",
    "\n",
    "    # Work on a copy unless modifying in-place\n",
    "    df = calib_gsc.df if in_place else calib_gsc.df.copy()\n",
    "\n",
    "    # Compute fits\n",
    "    x0_vals = []\n",
    "    shift_vals = []\n",
    "    for _, spec in df[\"spectrum\"].items():\n",
    "        try:\n",
    "            x0_fit, _, _ = fit_peak(spec, plot=plot)\n",
    "            shift_val = x0_fit - expected_x0_value\n",
    "        except Exception:\n",
    "            x0_fit = np.nan\n",
    "            shift_val = np.nan\n",
    "        x0_vals.append(x0_fit)\n",
    "        shift_vals.append(shift_val)\n",
    "\n",
    "    # Attach columns\n",
    "    df[\"x0_fit\"] = x0_vals\n",
    "    df[\"shift\"] = shift_vals\n",
    "\n",
    "    # Failing mask: NaN or outside range\n",
    "    mask_fail = ~np.isfinite(df[\"x0_fit\"]) | (df[\"x0_fit\"] < low) | (df[\"x0_fit\"] > high)\n",
    "    fail_df = df.loc[mask_fail].copy()\n",
    "\n",
    "    if in_place:\n",
    "        # Persist columns back to the original df\n",
    "        calib_gsc.df[\"x0_fit\"] = df[\"x0_fit\"]\n",
    "        calib_gsc.df[\"shift\"]  = df[\"shift\"]\n",
    "        return GroupedSpectralContainer.from_dataframe(fail_df)\n",
    "\n",
    "    # Build new GSCs with the augmented dataframes\n",
    "    new_gsc = GroupedSpectralContainer.from_dataframe(df)\n",
    "    fail_gsc = GroupedSpectralContainer.from_dataframe(fail_df)\n",
    "    \n",
    "    return fail_gsc, new_gsc"
   ]
  },
  {
   "cell_type": "markdown",
   "id": "ed8ad8c4-447d-4e61-b613-78b971383a6d",
   "metadata": {
    "jp-MarkdownHeadingCollapsed": true
   },
   "source": [
    "### Preprocessing\n",
    "Functions for plotting and optimising the baseline correction / preprocessing pipeline. Next step: add Guo et al's baseline optimisation"
   ]
  },
  {
   "cell_type": "code",
   "execution_count": null,
   "id": "f1c71bca-dd11-479a-ba50-9e43613ac4e7",
   "metadata": {},
   "outputs": [],
   "source": [
    "def apply_pipeline_to_container(container, pipeline):\n",
    "    df = container.df.assign(spectrum=container.df[\"spectrum\"].apply(pipeline.apply))\n",
    "    return GroupedSpectralContainer.from_dataframe(df)"
   ]
  },
  {
   "cell_type": "code",
   "execution_count": null,
   "id": "2d131609-1c2f-46dc-894c-0da1c3027fb2",
   "metadata": {},
   "outputs": [],
   "source": [
    "def baseline(spectrum, baseline_process, **kwargs):\n",
    "    '''Plot the baseline resulting from a single baseline process alongside its raw and baseline-subtracted spectra'''\n",
    "    corrected_spectrum = baseline_process.apply(spectrum)\n",
    "    baseline = rp.Spectrum(spectrum.spectral_data - corrected_spectrum.spectral_data, spectrum.spectral_axis)\n",
    "    spectra = [spectrum, baseline, corrected_spectrum]\n",
    "    labels = [\"Original spectrum\", \"removed baseline\", \"corrected spectrum\"]\n",
    "    return rp.plot.spectra(spectra, label=labels, plot_type=\"single\", alpha=0.9, **kwargs)"
   ]
  },
  {
   "cell_type": "code",
   "execution_count": null,
   "id": "4b68964d-16b5-4962-b229-6a846e78ab07",
   "metadata": {},
   "outputs": [],
   "source": [
    "def n_baselines(raw_gsc, baseline_process, process_name, n_samples=3, figsize=(8,7), seed=None):\n",
    "    '''Plot n randomly selected spectra along with their baselines and corrected spectra in a single figure\n",
    "    with mulitple subplots'''\n",
    "    spec_samples = raw_gsc.df.sample(n=n_samples)[\"spectrum\"]\n",
    "    fig, axs = plt.subplots(n_samples, 1, figsize=figsize)\n",
    "    for i, spec in enumerate(spec_samples):\n",
    "        baseline(spec, baseline_process, ax=axs[i], title=\"\", xlabel=\"\")\n",
    "    fig.suptitle(f\"{process_name}\")\n",
    "    plt.xlabel(\"Wavenumber (cm⁻¹)\")\n",
    "    plt.tight_layout()\n",
    "    return axs"
   ]
  },
  {
   "cell_type": "code",
   "execution_count": null,
   "id": "64d662ca-c096-4a3d-978e-372caba5626c",
   "metadata": {},
   "outputs": [],
   "source": [
    "def compare_baselines(spectrum, baseline_processes, process_names, figsize=(8,7)):\n",
    "    '''Plot a single spectrum with multiple different baseline processes applied to compare how\n",
    "    the algorithm handles that spectrum'''\n",
    "    fig, axs = plt.subplots(len(baseline_processes), 1, figsize=figsize)\n",
    "    for i, process in enumerate(baseline_processes):\n",
    "        baseline(spectrum, process, ax=axs[i], title=f\"{process_names[i]}\", xlabel=\"\")\n",
    "    plt.xlabel(\"Wavenumber(cm⁻¹)\")\n",
    "    plt.tight_layout()\n",
    "    return axs"
   ]
  },
  {
   "cell_type": "markdown",
   "id": "aa2b4b66-7c6f-4d9c-b5e0-f14f414ff54f",
   "metadata": {
    "jp-MarkdownHeadingCollapsed": true
   },
   "source": [
    "### Statistical Plots\n",
    "\n",
    "Next step: PCA Loading and Score Plots (Guo et al SOP point 23)"
   ]
  },
  {
   "cell_type": "code",
   "execution_count": null,
   "id": "94f3ab70-2703-4eb0-b317-e6ebcf74a8fd",
   "metadata": {},
   "outputs": [],
   "source": [
    "def mean_difference(group1_stats, group2_stats, ci_z=1.96):\n",
    "    \"\"\"\n",
    "    Compute the difference in mean spectra and 95% confidence interval band.\n",
    "\n",
    "    group1_stats and group2_stats are gsc rows containing the mean spectrum in column \"spectrum\" and containing\n",
    "    stats columns \"n\", \"var_vector\" and \"std_vector\" for group statistics.\n",
    "\n",
    "    Returns:\n",
    "        - Spectrum object for the difference\n",
    "        - np.ndarray for the CI band at each wavenumber\n",
    "    \"\"\"\n",
    "\n",
    "    if any(stat not in group1_stats.df.columns for stat in [\"n\", \"var_vector\", \"std_vector\"]) or (len(group1_stats) != 1):\n",
    "        raise ValueError(\"group1_stats missing statistics columns or includes multiple rows. Use include_stats=True in \\\n",
    "GSC.mean() to ensure stats are included.\")\n",
    "    \n",
    "    s1 = group1_stats[\"spectrum\"].iloc[0]\n",
    "    s2 = group2_stats[\"spectrum\"].iloc[0]\n",
    "\n",
    "    diff = s1.spectral_data - s2.spectral_data\n",
    "    axis = s1.spectral_axis\n",
    "    diff_spectrum = rp.Spectrum(diff, axis)\n",
    "\n",
    "    var1 = group1_stats[\"var_vector\"].iloc[0]\n",
    "    var2 = group2_stats[\"var_vector\"].iloc[0]\n",
    "    n1 = group1_stats[\"n\"].iloc[0]\n",
    "    n2 = group2_stats[\"n\"].iloc[0]\n",
    "\n",
    "    ci_band = ci_z * np.sqrt((var1 / n1) + (var2 / n2))\n",
    "\n",
    "    return diff_spectrum, ci_band"
   ]
  },
  {
   "cell_type": "code",
   "execution_count": null,
   "id": "7a8e6bcc-363c-434f-970e-66ddd8755040",
   "metadata": {},
   "outputs": [],
   "source": [
    "import warnings\n",
    "def mean_difference(diff_spectrum, ci_band, label=\"Difference in Means\", **kwargs):\n",
    "    \"\"\"\n",
    "    Plot the difference between two mean spectra with a 95% CI band centered at 0.\n",
    "\n",
    "    Parameters:\n",
    "        diff_spectrum (rp.Spectrum): Difference between two mean spectra.\n",
    "        ci_band (np.ndarray): 1D array of CI boundsz.\n",
    "        title (str): Plot title.\n",
    "        color (str): Line color.\n",
    "        **kwargs: Additional matplotlib parameters forwarded to rp.plot.spectra().\n",
    "    \"\"\"\n",
    "\n",
    "    if \"plot_type\" in kwargs.keys():\n",
    "        warnings.warn('Only plot_type=\"single\" is supported for mean_difference')\n",
    "        kwargs.pop(\"plot_type\")\n",
    "\n",
    "    ax_obj = rp.plot.spectra(diff_spectrum, label=label, plot_type=\"single\", **kwargs)\n",
    "    axs = _normalize_axes_obj(ax_obj)\n",
    "    axs[0].fill_between(diff_spectrum.spectral_axis, -ci_band, ci_band, color='gray', alpha=0.3, label='95% Confidence Band')\n",
    "    plt.axhline(0, color='gray', linestyle='--', linewidth=1)\n",
    "    return ax_obj"
   ]
  },
  {
   "cell_type": "code",
   "execution_count": null,
   "id": "aceb2b72-fc2e-4dfb-b420-7871a8af4b81",
   "metadata": {},
   "outputs": [],
   "source": [
    "def mean_correlation_per_group(gsc, by):\n",
    "    \"\"\"\n",
    "    Compute the Pearson correlation matrix between mean spectra of each group in a GroupedSpectralContainer.\n",
    "\n",
    "    Parameters:\n",
    "        gsc (GroupedSpectralContainer): The grouped spectral data.\n",
    "        by (str): Column name to group by.\n",
    "\n",
    "    Returns:\n",
    "        correlation_matrix (pd.DataFrame): Correlation matrix between mean spectra of each group.\n",
    "    \"\"\"\n",
    "    group_means_gsc = gsc.mean(by=by)\n",
    "    spectral_data = [row[\"spectrum\"].spectral_data for _, row in group_means_gsc.df.iterrows()]\n",
    "    group_keys = [\", \".join(map(str, k)) if isinstance(k, tuple) else str(k) for k in group_means_gsc.df.groupby(by).groups.keys()]\n",
    "    df_group_means = pd.DataFrame({k: v for k, v in zip(group_keys, spectral_data)})\n",
    "    correlation_matrix = df_group_means.corr(method='pearson')\n",
    "    return correlation_matrix"
   ]
  },
  {
   "cell_type": "code",
   "execution_count": null,
   "id": "11730021-b515-4824-abfa-9ca7c633c308",
   "metadata": {},
   "outputs": [],
   "source": [
    "def mean_correlation_per_group(\n",
    "    correlation_matrix,\n",
    "    title=\"Correlation Matrix of Raman Spectra\",\n",
    "    vmin=0,\n",
    "    vmax=1,\n",
    "    annot=True,\n",
    "    cmap=\"coolwarm\",\n",
    "    figsize=(8, 6),\n",
    "    **kwargs\n",
    "):\n",
    "    \"\"\"\n",
    "    Plot a heatmap of the correlation matrix between group mean spectra.\n",
    "\n",
    "    Parameters:\n",
    "        correlation_matrix (pd.DataFrame): Correlation matrix to plot.\n",
    "        title (str): Title of the plot.\n",
    "        vmin (float): Minimum value for heatmap color scale.\n",
    "        vmax (float): Maximum value for heatmap color scale.\n",
    "        annot (bool): Whether to annotate cells with values.\n",
    "        cmap (str): Color map to use for the heatmap.\n",
    "        figsize (tuple): Figure size.\n",
    "        **kwargs: Additional keyword arguments passed to seaborn.heatmap().\n",
    "    \"\"\"\n",
    "    plt.figure(figsize=figsize)\n",
    "    sns.heatmap(correlation_matrix, annot=annot, cmap=cmap, vmin=vmin, vmax=vmax, **kwargs)\n",
    "    plt.title(title)"
   ]
  },
  {
   "cell_type": "markdown",
   "id": "4c72430f-faff-4a14-ae3b-579460eb4aa2",
   "metadata": {
    "jp-MarkdownHeadingCollapsed": true
   },
   "source": [
    "### Classical Least Squares for Spectral Subtraction"
   ]
  },
  {
   "cell_type": "code",
   "execution_count": null,
   "id": "d491dca2-2b5c-4d34-99df-d931d4531c9f",
   "metadata": {},
   "outputs": [],
   "source": [
    "def CLS(query_spec, components_spec, component_names, plot=True, verbose=True):\n",
    "    \"\"\"\n",
    "    Perform classical least squares (CLS) spectral unmixing.\n",
    "\n",
    "    Decomposes a query spectrum into a linear combination of given component spectra\n",
    "    using linear regression. Returns the fitted coefficients, residual spectrum, and\n",
    "    individual component contributions. Optionally displays a plot and prints the results.\n",
    "\n",
    "    Parameters:\n",
    "        query_spec (rp.Spectrum): The target spectrum to be decomposed.\n",
    "        components_spec (list of rp.Spectrum): Reference component spectra.\n",
    "        component_names (list of str): Names corresponding to each component.\n",
    "        plot (bool): If True, plots the query, residual, and component spectra.\n",
    "        verbose (bool): If True, prints component names and their corresponding coefficients.\n",
    "\n",
    "    Returns:\n",
    "        tuple:\n",
    "            - cs (np.ndarray): Fitted CLS coefficients.\n",
    "            - res_spec (rp.Spectrum): Residual spectrum after fitting.\n",
    "            - fitted_components_spec (list of rp.Spectrum): Scaled component spectra.\n",
    "    \"\"\"\n",
    "    \n",
    "    # Check that all components have the same number of datapoints as the query spectrum\n",
    "    assert all(len(query_spec.spectral_axis) == len(component.spectral_axis) for component in components_spec), \"All components must have the same spectral axis length as the mixture spectrum\"\n",
    "\n",
    "    # Get the CLS coefficients\n",
    "    components = np.array([component.spectral_data for component in components_spec])\n",
    "    query = query_spec.spectral_data\n",
    "    cs = linear_model.LinearRegression().fit(components.T, query).coef_\n",
    "\n",
    "    # Calculate the residual spectrum and fitted components spectra\n",
    "    res = query_spec.spectral_data.copy()\n",
    "    fitted_components_spec = []\n",
    "    for c, component in zip(cs, components):\n",
    "        res -= c * component\n",
    "        fitted_components_spec.append(rp.Spectrum(c * component, query_spec.spectral_axis))\n",
    "    \n",
    "    res_spec = rp.Spectrum(res, query_spec.spectral_axis)\n",
    "    \n",
    "    print(\"components:\\n\" + \"\\n\".join(f\"{name}, {c}\" for name, c in zip(component_names, cs)))\n",
    "\n",
    "    # First figure: query, residual, and fitted components\n",
    "    rp.plot.spectra(\n",
    "        [query_spec, res_spec] + fitted_components_spec,\n",
    "        label=[\"query\", \"residual\"] + component_names,\n",
    "        plot_type=\"single\",\n",
    "        alpha=0.8,\n",
    "    )\n",
    "\n",
    "    return cs, res_spec, fitted_components_spec"
   ]
  },
  {
   "cell_type": "markdown",
   "id": "bfec9af5-e48c-4a05-b983-2adc638e37b5",
   "metadata": {},
   "source": [
    "## Code Examples\n",
    "Todo: add a section on mean_spectrum_per_group() and filtering using GSC"
   ]
  },
  {
   "cell_type": "markdown",
   "id": "171cae99-00b3-43eb-bbd2-f2feb255b160",
   "metadata": {
    "jp-MarkdownHeadingCollapsed": true
   },
   "source": [
    "### Loading Raman Data From .csv File"
   ]
  },
  {
   "cell_type": "code",
   "execution_count": null,
   "id": "0dba47ff-8545-4ba9-9ff1-8735220f2768",
   "metadata": {
    "jupyter": {
     "source_hidden": true
    }
   },
   "outputs": [],
   "source": [
    "def load_colon_spectra(csv_path):\n",
    "    \"\"\"\n",
    "    Load colon tissue Raman spectra into a GroupedSpectralContainer from a CSV file.\n",
    "\n",
    "    Filters to spectra labeled as 'Normal', 'Adenom', or 'Karzinom' and tissue type 'preparation'.\n",
    "    Returns a GroupedSpectralContainer and a NumPy array of binary labels (0 = normal, 1 = abnormal).\n",
    "    \"\"\"\n",
    "\n",
    "    # Read CSV\n",
    "    df = pd.read_csv(csv_path)\n",
    "\n",
    "    # Filter to valid, usable spectra\n",
    "    df = df[\n",
    "        df['Annotation'].isin(['Normal', 'Adenom', 'Karzinom']) &\n",
    "        (df['Tissue'] == 'preparation')\n",
    "    ]\n",
    "\n",
    "    # Create binary labels\n",
    "    label_map = {'Normal': 0, 'Adenom': 1, 'Karzinom': 1}\n",
    "    labels = df['Annotation'].map(label_map).to_numpy()\n",
    "\n",
    "    # Extract metadata\n",
    "    replicates = df[\"Name\"].str.split('_').str[0]\n",
    "    metadata = [\n",
    "        {\n",
    "            \"annotation\": annotation,\n",
    "            \"name\": name,\n",
    "            \"tissue\": tissue,\n",
    "            \"replicate\": replicate,\n",
    "            \"label\": label  # binary: 0 or 1\n",
    "        }\n",
    "        for annotation, name, tissue, replicate, label in zip(\n",
    "            df['Annotation'], df['Name'], df['Tissue'], replicates, labels\n",
    "        )\n",
    "    ]\n",
    "\n",
    "    # Isolate spectral data\n",
    "    df = df.loc[:, ~df.columns.str.contains('^Unnamed')]  # Remove index column if present\n",
    "    spectral_df = df.drop(columns=['Name', 'Annotation', 'Tissue'])\n",
    "\n",
    "    # Extract spectra and axis\n",
    "    spectra_array = spectral_df.to_numpy()\n",
    "    spectral_axis = spectral_df.columns.astype(float).to_numpy()\n",
    "\n",
    "    # Build Spectrum objects\n",
    "    spectra = [\n",
    "        rp.Spectrum(spectral_data, spectral_axis)\n",
    "        for spectral_data in spectra_array\n",
    "    ]\n",
    "\n",
    "    # Return wrapped container\n",
    "    container = GroupedSpectralContainer(spectral_list=spectra, metadata=metadata)\n",
    "    return container, labels"
   ]
  },
  {
   "cell_type": "code",
   "execution_count": null,
   "id": "25921937-e612-45e1-910d-562b7d7949a2",
   "metadata": {},
   "outputs": [],
   "source": [
    "raw_gsc, labels = load_colon_spectra(\"/home/linux_thoma/git/aranexx_sers_analysis/ramanlib/DATA_dp_wc_bc.csv\")"
   ]
  },
  {
   "cell_type": "markdown",
   "id": "4118e629-45a6-43d0-89be-540ef20c1bb7",
   "metadata": {
    "jp-MarkdownHeadingCollapsed": true
   },
   "source": [
    "### Visualising Raw Data"
   ]
  },
  {
   "cell_type": "code",
   "execution_count": null,
   "id": "cb6246e0-af9b-47db-9e96-90a18ae951ee",
   "metadata": {
    "scrolled": true
   },
   "outputs": [],
   "source": [
    "mean_per_group(raw_gsc, \"annotation\", plot_type=\"stacked\", interval=\"sd\")"
   ]
  },
  {
   "cell_type": "code",
   "execution_count": null,
   "id": "5d1cb940-c7ce-4b8a-bc5e-73b69b008382",
   "metadata": {
    "scrolled": true
   },
   "outputs": [],
   "source": [
    "random_per_group(raw_gsc, \"annotation\", n_samples=3, plot_type=\"stacked\")"
   ]
  },
  {
   "cell_type": "code",
   "execution_count": null,
   "id": "19a31069-5064-4f8e-9432-2ac51402d0aa",
   "metadata": {},
   "outputs": [],
   "source": [
    "len(raw_gsc)"
   ]
  },
  {
   "cell_type": "code",
   "execution_count": null,
   "id": "618e05f4-6b3e-47e0-949a-37c9fe8e7dd0",
   "metadata": {},
   "outputs": [],
   "source": [
    "# Comments:\n",
    "# While the mean spectra look like they have a relatively low variance, plotting random spectra show that the spectra are actually all over the place.\n",
    "# I thought that they may have already been pre-processed but it appears that I misinterpreted the text of the paper.\n",
    "# I will certainly need to preprocess as well as remove outliers where there were significant issues in the data."
   ]
  },
  {
   "cell_type": "code",
   "execution_count": null,
   "id": "fd8cc8f0-f7dd-4460-8de9-4c3dcb86ebd7",
   "metadata": {},
   "outputs": [],
   "source": [
    "# See counts of each annotation\n",
    "print(\"Annotation counts:\")\n",
    "print(raw_gsc.df['annotation'].value_counts())"
   ]
  },
  {
   "cell_type": "code",
   "execution_count": null,
   "id": "c4fe882d-a179-4551-ab36-232988bb4ebe",
   "metadata": {},
   "outputs": [],
   "source": [
    "# Check combinations of tissue type, annotation and label\n",
    "print(\"Annotation by tissue type:\")\n",
    "print(raw_gsc.df.groupby(['tissue', 'annotation', 'label']).size())"
   ]
  },
  {
   "cell_type": "markdown",
   "id": "6772b69c-310d-427e-ac97-785b74d6a4dd",
   "metadata": {},
   "source": [
    "### Calibrate Raw Spectra"
   ]
  },
  {
   "cell_type": "markdown",
   "id": "bb47eb6e-3c96-4de5-aa9f-44a8b9f266bd",
   "metadata": {},
   "source": [
    "#### Example: Detecting wavenumber shift from internal Si calibration standard"
   ]
  },
  {
   "cell_type": "markdown",
   "id": "de7936ab-4a68-4f6b-91e6-3748ec9d3eee",
   "metadata": {},
   "source": [
    "To demonstrate the calibration functions, I will generate hypothetical internal silicon spectral data, which contains a single high-intensity peak. A study conducted by Itoh et al. estimates that the main silicon band is situated at 520.45 ± 0.28 cm-1 for Si 100."
   ]
  },
  {
   "cell_type": "code",
   "execution_count": null,
   "id": "51194aea-8847-4af1-8af4-f0dd8ba1ffea",
   "metadata": {},
   "outputs": [],
   "source": [
    "# Generate hypothetical internal silicon standard spectra\n",
    "from datetime import date\n",
    "\n",
    "# Parameters\n",
    "n = 100\n",
    "ideal_center = 520.45\n",
    "allowed_halfwidth = 0.28\n",
    "center_sd = 0.2      # ~few % outside the window\n",
    "amp_range = (800, 1200)\n",
    "sigma_range = (0.3, 0.6)\n",
    "noise_frac = 0.02\n",
    "seed = 7\n",
    "\n",
    "rng = np.random.default_rng(seed)\n",
    "\n",
    "# Wavenumber axis around the Si line\n",
    "x = np.linspace(480, 560, 1601)\n",
    "\n",
    "# Random peak parameters\n",
    "centers = rng.normal(ideal_center, center_sd, size=n)\n",
    "amps    = rng.uniform(*amp_range, size=n)\n",
    "sigmas  = rng.uniform(*sigma_range, size=n)\n",
    "\n",
    "spectra = []\n",
    "for c, a, s in zip(centers, amps, sigmas):\n",
    "    y = a * np.exp(-(x - c)**2 / (2 * s**2))\n",
    "    y += rng.normal(0.0, noise_frac * a, size=x.shape)  # noise\n",
    "    spectra.append(rp.Spectrum(y, x))\n",
    "\n",
    "# Minimal fake metadata: rotating dates and 3x3 spots\n",
    "dates = [date(2025, 8, 1), date(2025, 8, 2)]\n",
    "spots = [f\"({r},{c})\" for r in range(1, 4) for c in range(1, 4)]\n",
    "metadata = [{\"date\": dates[i % len(dates)], \"spot\": spots[i % len(spots)]} for i in range(n)]\n",
    "\n",
    "# Build GroupedSpectralContainer\n",
    "calib_gsc = GroupedSpectralContainer(spectra, metadata)"
   ]
  },
  {
   "cell_type": "markdown",
   "id": "a28a51c4-d52a-4450-b627-95d6cc2dead4",
   "metadata": {},
   "source": [
    "Plot randomly selected spectra to visualy verify."
   ]
  },
  {
   "cell_type": "code",
   "execution_count": null,
   "id": "8ee39970-73e5-490d-b791-e050d3d8b6b5",
   "metadata": {},
   "outputs": [],
   "source": [
    "calib_gsc.plot_random(n_samples=3, seed=seed)"
   ]
  },
  {
   "cell_type": "markdown",
   "id": "0e57d434-5b0f-4065-a3a5-9accfc4775bd",
   "metadata": {},
   "source": [
    "Check the calibration of a single spectrum"
   ]
  },
  {
   "cell_type": "code",
   "execution_count": null,
   "id": "c6b097ee-5533-4b77-91e9-2ea560a38987",
   "metadata": {},
   "outputs": [],
   "source": [
    "shift_value = get_wn_shift(calib_gsc[\"spectrum\"].iloc[5], 520.45, plot=True)\n",
    "print(shift_value)\n",
    "plt.show()"
   ]
  },
  {
   "cell_type": "markdown",
   "id": "a506a378-0c2d-4bec-a2d5-b272d6392d50",
   "metadata": {},
   "source": [
    "Check the calibration of the entire GSC and return a GSC of uncalibrated spectra"
   ]
  },
  {
   "cell_type": "code",
   "execution_count": null,
   "id": "05d92d30-8319-4efd-91b2-88787c72edbd",
   "metadata": {},
   "outputs": [],
   "source": [
    "fail_gsc, new_gsc = get_gsc_wn_shifts(\n",
    "    calib_gsc,\n",
    "    [520.17, 520.73],\n",
    "    520.45\n",
    ")"
   ]
  },
  {
   "cell_type": "code",
   "execution_count": null,
   "id": "7ddd1c2a-f252-47ab-8228-adfe3da4789a",
   "metadata": {},
   "outputs": [],
   "source": [
    "print(fail_gsc)\n",
    "print(fail_gsc[\"shift\"].abs().min())\n",
    "# All shifts in the fail gsc are above 0.28, as expected, since we used the range 520.45 +- 0.28"
   ]
  },
  {
   "cell_type": "code",
   "execution_count": null,
   "id": "97cc449e-4102-4e18-8982-6196e0cffdb4",
   "metadata": {},
   "outputs": [],
   "source": [
    "print(new_gsc)"
   ]
  },
  {
   "cell_type": "markdown",
   "id": "a343f265-7c4f-4c9c-91f8-e281d95f03eb",
   "metadata": {},
   "source": [
    "Using the shift values and dates given in these grouped spectra containers, we are able to apply a wavenumber shift to other data collected on or near the same day."
   ]
  },
  {
   "cell_type": "markdown",
   "id": "6bfeca56-c925-4278-9ded-b0cd7d0711c8",
   "metadata": {
    "jp-MarkdownHeadingCollapsed": true
   },
   "source": [
    "### Choose Best Baseline Subtraction Algorithm"
   ]
  },
  {
   "cell_type": "code",
   "execution_count": null,
   "id": "c87ba90a-68ce-4128-8861-df99f4a24906",
   "metadata": {},
   "outputs": [],
   "source": [
    "baseline(raw_gsc[\"spectrum\"].iloc[0], rp.preprocessing.baseline.ASLS(lam=1000))"
   ]
  },
  {
   "cell_type": "code",
   "execution_count": null,
   "id": "a30d9650-c633-4533-99e3-b8b0b68f71c7",
   "metadata": {},
   "outputs": [],
   "source": [
    "n_baselines(raw_gsc, rp.preprocessing.baseline.ASLS(lam=1000), \"ASLS\")"
   ]
  },
  {
   "cell_type": "code",
   "execution_count": null,
   "id": "0387675a-52b3-437c-980c-af0b43cac07e",
   "metadata": {},
   "outputs": [],
   "source": [
    "processes = [\n",
    "    rp.preprocessing.baseline.IARPLS(lam=10),\n",
    "    rp.preprocessing.baseline.IARPLS(lam=100),\n",
    "    rp.preprocessing.baseline.IARPLS(lam=1000),\n",
    "    rp.preprocessing.baseline.IARPLS(lam=10000),\n",
    "    rp.preprocessing.baseline.IARPLS(lam=100000)\n",
    "]\n",
    "\n",
    "names = [\n",
    "    \"lam = 10\",\n",
    "    \"lam = 100\",\n",
    "    \"lam = 1000\",\n",
    "    \"lam = 10000\",\n",
    "    \"lam = 100000\"\n",
    "]\n",
    "compare_baselines(raw_gsc[\"spectrum\"].iloc[0], processes, names, figsize=(10,10))"
   ]
  },
  {
   "cell_type": "markdown",
   "id": "6e5f0e6e-6735-487b-a802-ed9e8cab39fd",
   "metadata": {
    "jp-MarkdownHeadingCollapsed": true
   },
   "source": [
    "### Pipeline"
   ]
  },
  {
   "cell_type": "code",
   "execution_count": null,
   "id": "a8e2d35d-7c4d-4e62-8d80-2a3c68c595a5",
   "metadata": {},
   "outputs": [],
   "source": [
    "# Define the pipeline.\n",
    "pipe = rp.preprocessing.Pipeline([\n",
    "    rp.preprocessing.despike.WhitakerHayes(),\n",
    "    rp.preprocessing.baseline.IARPLS(lam = 300),\n",
    "    rp.preprocessing.normalise.MaxIntensity(),\n",
    "])"
   ]
  },
  {
   "cell_type": "code",
   "execution_count": null,
   "id": "2af5a2ba-4078-450e-956b-cd5956c971ae",
   "metadata": {},
   "outputs": [],
   "source": [
    "prepro_gsc = apply_pipeline_to_container(raw_gsc, pipe)"
   ]
  },
  {
   "cell_type": "markdown",
   "id": "4e1d1b60-488b-4a9c-adbc-87dc2c50bc4e",
   "metadata": {},
   "source": [
    "### Visualising Preprocessed Spectra"
   ]
  },
  {
   "cell_type": "markdown",
   "id": "6be2bca6-7b78-4424-8836-74f12e956156",
   "metadata": {
    "jp-MarkdownHeadingCollapsed": true
   },
   "source": [
    "#### Individual Spectra"
   ]
  },
  {
   "cell_type": "code",
   "execution_count": null,
   "id": "7c9f18b3-4c11-4c46-bd49-72f976bf0cfc",
   "metadata": {},
   "outputs": [],
   "source": [
    "# Plot random spectra before and after preprocessing\n",
    "# Create 1 row, 2 column subplot layout\n",
    "fig, (ax1, ax2) = plt.subplots(1, 2, figsize=(12, 5))  # Adjust figsize as needed\n",
    "\n",
    "# Plot randomly selected raw spectra\n",
    "random_per_group(raw_gsc, by=\"annotation\", plot_type=\"single\", ax=ax1, title=\"Raw Spectra\", n_samples=1)\n",
    "# Plot randomly selected preprocessed spectra\n",
    "random_per_group(prepro_gsc, by=\"annotation\", plot_type=\"single\", ax=ax2, title=\"Preprocessed Spectra\", n_samples=1)\n",
    "plt.tight_layout()\n",
    "plt.show()"
   ]
  },
  {
   "cell_type": "markdown",
   "id": "53834e65-8fbb-42cd-a044-3094cde90e3c",
   "metadata": {},
   "source": [
    "#### Mean Spectra"
   ]
  },
  {
   "cell_type": "code",
   "execution_count": null,
   "id": "b1dc39c3-1212-4c16-8023-337035c97b4f",
   "metadata": {},
   "outputs": [],
   "source": [
    "# Demonstrate the full customisability of the plot functions\n",
    "prepro_gsc.plot_mean(\n",
    "    by=[\"annotation\", \"label\"],\n",
    "    interval=\"sd\",\n",
    "    plot_type=\"single\",\n",
    "    linewidth=1,\n",
    "    label=[\"Adenoma\", \"Carcinoma\", \"Normal\"],\n",
    "    color=[\"red\", \"blue\", \"yellow\"],\n",
    "    title=\"My Raman Spectra\",\n",
    "    xlabel=\"My x axis\",\n",
    "    ylabel=\"Counts\"\n",
    ")\n",
    "                     "
   ]
  },
  {
   "cell_type": "code",
   "execution_count": null,
   "id": "2973b102-9ab7-42fb-b503-bd3f03df2f68",
   "metadata": {},
   "outputs": [],
   "source": [
    "# Plot mean spectra before and after preprocessing\n",
    "# Create 1 row, 2 column subplot layout\n",
    "fig, (ax1, ax2) = plt.subplots(1, 2, figsize=(12, 5))  # Adjust figsize as needed\n",
    "\n",
    "# Plot mean spectra before and after preprocessing\n",
    "mean_per_group(raw_gsc, \"annotation\", plot_type=\"single\", ax=ax1, title=\"Raw Means\", interval=\"sd\")\n",
    "mean_per_group(prepro_gsc, \"annotation\", plot_type=\"single\", ax=ax2, title=\"Preprocessed Means\", interval=\"sd\")\n",
    "plt.tight_layout()\n",
    "plt.show()"
   ]
  },
  {
   "cell_type": "markdown",
   "id": "3c3b40f7-d3d7-4ec3-9e5d-5f14621f5e8b",
   "metadata": {
    "jp-MarkdownHeadingCollapsed": true
   },
   "source": [
    "### Quality Control"
   ]
  },
  {
   "cell_type": "code",
   "execution_count": null,
   "id": "aa8ece3e-b38e-4ebe-a145-d0ebf78a5cf7",
   "metadata": {},
   "outputs": [],
   "source": [
    "results = outliers_per_group(prepro_gsc, rp.metrics.MSE, by=\"annotation\", n_spectra=1)"
   ]
  },
  {
   "cell_type": "code",
   "execution_count": null,
   "id": "4316bad4-6686-4760-a347-7ff19211d356",
   "metadata": {},
   "outputs": [],
   "source": [
    "results"
   ]
  },
  {
   "cell_type": "code",
   "execution_count": null,
   "id": "2673526e-e047-4ee9-9ef5-be5d46980535",
   "metadata": {},
   "outputs": [],
   "source": [
    "axes = outliers_per_group(prepro_gsc, results, linewidth=1)\n",
    "plt.show()"
   ]
  },
  {
   "cell_type": "markdown",
   "id": "ea17838d-92b3-41f5-b41f-8856c59b618f",
   "metadata": {},
   "source": [
    "The Carcinoma sample at index 69 looks like an error in measurement has made it too noisy, so we will remove it from the dataset."
   ]
  },
  {
   "cell_type": "code",
   "execution_count": null,
   "id": "54b9fad9-b762-4f53-895e-0a3fed2c984b",
   "metadata": {},
   "outputs": [],
   "source": [
    "cleaned_gsc = GroupedSpectralContainer.from_dataframe(prepro_gsc.df.drop(prepro_gsc.df.index[69]))"
   ]
  },
  {
   "cell_type": "code",
   "execution_count": null,
   "id": "d555a774-db10-4e9b-87b2-c88ef38e6e91",
   "metadata": {},
   "outputs": [],
   "source": [
    "results = calc_outlier_indices_per_group(cleaned_gsc, rp.metrics.MSE, by=\"annotation\", n_spectra=1)"
   ]
  },
  {
   "cell_type": "code",
   "execution_count": null,
   "id": "de36cd46-7049-4347-867e-38ce528f5cc3",
   "metadata": {},
   "outputs": [],
   "source": [
    "results"
   ]
  },
  {
   "cell_type": "code",
   "execution_count": null,
   "id": "5cd3e2c1-c050-46eb-b73e-de4264fbe506",
   "metadata": {},
   "outputs": [],
   "source": [
    "axes = plot_outlier_indices_per_group(cleaned_gsc, results, linewidth=1)\n",
    "plt.show()"
   ]
  },
  {
   "cell_type": "markdown",
   "id": "3de20de8-a104-4637-93cf-38efd854b2ee",
   "metadata": {},
   "source": [
    "### Between-Group Analysis"
   ]
  },
  {
   "cell_type": "markdown",
   "id": "b470e693-3bdf-4309-9f47-8ff5b120f547",
   "metadata": {},
   "source": [
    "#### Difference in Mean Spectra"
   ]
  },
  {
   "cell_type": "code",
   "execution_count": null,
   "id": "c24f7e7a-6a81-4ee4-8148-15a3c7f15fba",
   "metadata": {},
   "outputs": [],
   "source": [
    "group_stats = prepro_gsc.mean(by=\"annotation\", include_stats=True)\n",
    "group1_stats = group_stats[group_stats[\"annotation\"]==\"Normal\"]\n",
    "group2_stats = group_stats[group_stats[\"annotation\"]==\"Adenom\"]\n",
    "group3_stats = group_stats[group_stats[\"annotation\"]==\"Karzinom\"]"
   ]
  },
  {
   "cell_type": "code",
   "execution_count": null,
   "id": "98dc449f-072e-445d-ba83-b420659e83a9",
   "metadata": {},
   "outputs": [],
   "source": [
    "diff_spectrum_1, ci_band_1 = mean_difference(group1_stats, group2_stats)\n",
    "diff_spectrum_2, ci_band_2 = mean_difference(group2_stats, group3_stats)\n",
    "diff_spectrum_3, ci_band_3 = mean_difference(group3_stats, group1_stats)"
   ]
  },
  {
   "cell_type": "code",
   "execution_count": null,
   "id": "357f13eb-09e7-4d9c-9eda-0270bae4a4e0",
   "metadata": {},
   "outputs": [],
   "source": [
    "rp.plot.spectra([group1_stats[\"spectrum\"].iloc[0], group2_stats[\"spectrum\"].iloc[0]], plot_type=\"single\", label=[\"Normal\", \"Adenom\"])"
   ]
  },
  {
   "cell_type": "code",
   "execution_count": null,
   "id": "2f07cd07-34d6-48a1-9ef0-201fc401c7d7",
   "metadata": {},
   "outputs": [],
   "source": [
    "fig, axs = plt.subplots(3, 1, figsize=(8, 6))\n",
    "mean_difference(diff_spectrum_1, ci_band_1, title=\"Normal - Adenoma\", ax=axs[0])\n",
    "mean_difference(diff_spectrum_2, ci_band_2, title=\"Adenoma - Carcinoma\", ax=axs[1])\n",
    "mean_difference(diff_spectrum_3, ci_band_3, title=\"Carcinoma - Normal\", ax=axs[2])\n",
    "plt.tight_layout()\n",
    "plt.show()\n"
   ]
  },
  {
   "cell_type": "markdown",
   "id": "21c50b53-ca66-461c-870d-4e867f9b4847",
   "metadata": {},
   "source": [
    "#### Correlation Coefficient by Annotation"
   ]
  },
  {
   "cell_type": "code",
   "execution_count": null,
   "id": "c8421267-32c9-4f08-88fa-4ca12bdc2be7",
   "metadata": {},
   "outputs": [],
   "source": [
    "corr = mean_correlation_per_group(prepro_gsc, \"annotation\")"
   ]
  },
  {
   "cell_type": "code",
   "execution_count": null,
   "id": "06bdbaf1-9953-42b3-989d-07b8a40b52df",
   "metadata": {},
   "outputs": [],
   "source": [
    "mean_correlation_per_group(corr, vmin=0.98)\n",
    "plt.show()"
   ]
  },
  {
   "cell_type": "markdown",
   "id": "e05fce0c-0063-45d3-a54f-3d1ff6f23db7",
   "metadata": {
    "jp-MarkdownHeadingCollapsed": true
   },
   "source": [
    "#### Correlation Coefficient by Replicate"
   ]
  },
  {
   "cell_type": "code",
   "execution_count": null,
   "id": "d5d0f0ba-f475-468a-939b-3649a89e51cf",
   "metadata": {},
   "outputs": [],
   "source": [
    "corr = mean_correlation_per_group(prepro_gsc, \"replicate\")"
   ]
  },
  {
   "cell_type": "code",
   "execution_count": null,
   "id": "076c4f29-4983-4f5d-8998-4fe02c567bde",
   "metadata": {},
   "outputs": [],
   "source": [
    "mean_correlation_per_group(corr, annot=False, vmin=0.90, vmax=1.0)"
   ]
  },
  {
   "cell_type": "markdown",
   "id": "5e4b9ed4-d900-4f13-956a-5240df2250a7",
   "metadata": {
    "jp-MarkdownHeadingCollapsed": true
   },
   "source": [
    "#### Next step: Loading and score plots (Guo et al SOP step 23)"
   ]
  },
  {
   "cell_type": "markdown",
   "id": "2cf106cd-adb2-4e68-8f44-49fb7960fb8a",
   "metadata": {
    "jp-MarkdownHeadingCollapsed": true
   },
   "source": [
    "### Classical Least Squares for Spectral Subtraction"
   ]
  },
  {
   "cell_type": "code",
   "execution_count": null,
   "id": "00f62b63-a487-4cb5-94d8-55e6234203d1",
   "metadata": {},
   "outputs": [],
   "source": [
    "import os\n",
    "\n",
    "# Base directory: folder containing this script\n",
    "BASE_DIR = os.getcwd()\n",
    "\n",
    "# Example data folder inside ramanlib\n",
    "DATA_DIR = os.path.join(BASE_DIR, \"CLS_example_data\")\n",
    "\n",
    "# Build relative paths\n",
    "grating = rp.load.renishaw(os.path.join(DATA_DIR, \"grating 10s 50_ 3acc 532nm 1200lmm extended range 200-3600 spot 1.wdf\"))\n",
    "water = rp.load.renishaw(os.path.join(DATA_DIR, \"water 10s 10_ 3acc 532nm 1200lmm extended range 200-3600 spot 3.wdf\"))\n",
    "ethanol = rp.load.renishaw(os.path.join(DATA_DIR, \"ethanol 10s 1_ 3acc 532nm 1200lmm extended range 200-3600 spot 1.wdf\"))\n",
    "water_and_ethanol = rp.load.renishaw(os.path.join(DATA_DIR, \"water and ethanol 10s 10_ 3acc 532nm 1200lmm extended range 200-3600 spot 1.wdf\"))"
   ]
  },
  {
   "cell_type": "code",
   "execution_count": null,
   "id": "ec5755dd-d879-43f2-a2e6-9ac6a1af96af",
   "metadata": {},
   "outputs": [],
   "source": [
    "rp.plot.spectra([grating, water, ethanol, water_and_ethanol], plot_type=\"single\")"
   ]
  },
  {
   "cell_type": "code",
   "execution_count": null,
   "id": "5931b9e1-5359-4ea4-8c6b-548a37583371",
   "metadata": {},
   "outputs": [],
   "source": [
    "pipe = rp.preprocessing.Pipeline([\n",
    "    rp.preprocessing.despike.WhitakerHayes(),\n",
    "    rp.preprocessing.baseline.IARPLS(lam = 3000),\n",
    "    rp.preprocessing.normalise.MaxIntensity(),\n",
    "])\n",
    "\n",
    "grating_prepro = pipe.apply(grating)\n",
    "water_prepro = pipe.apply(water)\n",
    "ethanol_prepro = pipe.apply(ethanol)\n",
    "water_and_ethanol_prepro = pipe.apply(water_and_ethanol)"
   ]
  },
  {
   "cell_type": "code",
   "execution_count": null,
   "id": "3cbbd366-a2a9-4a95-814e-81b66272ea7d",
   "metadata": {},
   "outputs": [],
   "source": [
    "rp.plot.spectra([grating_prepro, water_prepro, ethanol_prepro, water_and_ethanol_prepro], plot_type=\"single\")"
   ]
  },
  {
   "cell_type": "code",
   "execution_count": null,
   "id": "a85f74d5-6da6-449a-84a8-a5e7188145da",
   "metadata": {},
   "outputs": [],
   "source": [
    "cs, res_spec, fitted_components_spec = CLS(water_and_ethanol_prepro, [grating_prepro, water_prepro, ethanol_prepro], [\"grating\", \"water\", \"ethanol\"])"
   ]
  }
 ],
 "metadata": {
  "kernelspec": {
   "display_name": "Python 3 (ipykernel)",
   "language": "python",
   "name": "python3"
  },
  "language_info": {
   "codemirror_mode": {
    "name": "ipython",
    "version": 3
   },
   "file_extension": ".py",
   "mimetype": "text/x-python",
   "name": "python",
   "nbconvert_exporter": "python",
   "pygments_lexer": "ipython3",
   "version": "3.10.17"
  }
 },
 "nbformat": 4,
 "nbformat_minor": 5
}
